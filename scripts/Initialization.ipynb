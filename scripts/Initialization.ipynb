{
 "cells": [
  {
   "cell_type": "code",
   "execution_count": 2,
   "metadata": {},
   "outputs": [
    {
     "name": "stdout",
     "output_type": "stream",
     "text": [
      "2019年  5月 28日 火曜日 11:21:48 JST\n"
     ]
    }
   ],
   "source": [
    "!date"
   ]
  },
  {
   "cell_type": "code",
   "execution_count": 1,
   "metadata": {},
   "outputs": [
    {
     "name": "stdout",
     "output_type": "stream",
     "text": [
      "Running with PyMC3 version v.3.8\n"
     ]
    },
    {
     "ename": "ModuleNotFoundError",
     "evalue": "No module named 'descartes'",
     "output_type": "error",
     "traceback": [
      "\u001b[0;31m---------------------------------------------------------------------------\u001b[0m",
      "\u001b[0;31mModuleNotFoundError\u001b[0m                       Traceback (most recent call last)",
      "\u001b[0;32m<ipython-input-1-d5871682126a>\u001b[0m in \u001b[0;36m<module>\u001b[0;34m\u001b[0m\n\u001b[1;32m     45\u001b[0m \u001b[0;32mimport\u001b[0m \u001b[0mpickle\u001b[0m\u001b[0;34m\u001b[0m\u001b[0;34m\u001b[0m\u001b[0m\n\u001b[1;32m     46\u001b[0m \u001b[0;34m\u001b[0m\u001b[0m\n\u001b[0;32m---> 47\u001b[0;31m \u001b[0;32mimport\u001b[0m \u001b[0mdescartes\u001b[0m\u001b[0;34m\u001b[0m\u001b[0;34m\u001b[0m\u001b[0m\n\u001b[0m\u001b[1;32m     48\u001b[0m \u001b[0;32mimport\u001b[0m \u001b[0mfiona\u001b[0m\u001b[0;34m\u001b[0m\u001b[0;34m\u001b[0m\u001b[0m\n\u001b[1;32m     49\u001b[0m \u001b[0;32mimport\u001b[0m \u001b[0mgeopandas\u001b[0m \u001b[0;32mas\u001b[0m \u001b[0mgpd\u001b[0m\u001b[0;34m\u001b[0m\u001b[0;34m\u001b[0m\u001b[0m\n",
      "\u001b[0;31mModuleNotFoundError\u001b[0m: No module named 'descartes'"
     ]
    }
   ],
   "source": [
    "import pandas as pd\n",
    "import numpy as np\n",
    "import scipy.stats as ss\n",
    "\n",
    "%matplotlib inline\n",
    "# Make inline plots raster graphics\n",
    "from IPython.display import set_matplotlib_formats\n",
    "import matplotlib\n",
    "import matplotlib.pyplot as plt\n",
    "import matplotlib.dates as mdates\n",
    "from datetime import timedelta\n",
    "import arviz as az\n",
    "\n",
    "# Parameters for seaborn plots\n",
    "import seaborn as sns\n",
    "clrs = sns.color_palette(\"Spectral\", 6)\n",
    "def set_plot_style(usetex=False):\n",
    "    sns.set_style('white', {'axes.linewidth': 0.5})\n",
    "    sns.set(style='white', font_scale=1.1,#context='paper',\n",
    "            rc={'xtick.major.size': 6, 'ytick.major.size': 6, 'legend.fontsize': 14,\n",
    "                'text.usetex': usetex, 'font.family': 'serif', 'font.serif': ['Verdana'],\n",
    "                'text.latex.preamble': r\"\\usepackage{type1cm}\"}) \n",
    "    plt.rcParams['xtick.major.size'] = 6\n",
    "    plt.rcParams['xtick.major.width'] = 1\n",
    "    plt.rcParams['ytick.major.size'] = 6\n",
    "    plt.rcParams['ytick.major.width'] = 1\n",
    "    plt.rcParams['xtick.bottom'] = True\n",
    "    plt.rcParams['ytick.left'] = True\n",
    "\n",
    "palette_size = 6;\n",
    "clrs = sns.color_palette(\"colorblind\",palette_size) #cubehelix\n",
    "import itertools # to do cycle, product\n",
    "iclrs = itertools.cycle(clrs) # iterated colors\n",
    "lw = .4 #linewidth for bins on plot.bar()\n",
    "\n",
    "import pymc3 as pm\n",
    "print('Running with PyMC3 version v.{}'.format(pm.__version__))\n",
    "import pymc3.distributions.transforms as tr\n",
    "import theano\n",
    "import theano.tensor as tt\n",
    "from theano.compile.ops import as_op\n",
    "theano.config.compute_test_value = 'ignore'\n",
    "\n",
    "import time\n",
    "import pickle\n",
    "\n",
    "import descartes\n",
    "import fiona\n",
    "import geopandas as gpd\n",
    "import geopy.distance\n",
    "\n",
    "import locale\n",
    "import platform \n",
    "current_platform = platform.system()\n",
    "if current_platform=='Darwin':\n",
    "    %config InlineBackend.figure_format = 'retina'\n",
    "else:\n",
    "    locale.setlocale(locale.LC_ALL, 'en_US.utf8')\n",
    "    %config InlineBackend.figure_format = 'png'\n",
    "\n",
    "import sys\n",
    "print(sys.version)\n",
    "\n",
    "from pandas.plotting import register_matplotlib_converters\n",
    "register_matplotlib_converters()\n",
    "\n",
    "from IPython.core.display import Image, display\n",
    "!mkdir -p ../../figures\n",
    "!mkdir -p ../../figures/draft\n",
    "!mkdir -p ../../figures/pngs\n",
    "!mkdir -p csvs\n",
    "\n",
    "import rpy2.rinterface\n",
    "%load_ext rpy2.ipython\n",
    "rpy2.robjects.r['options'](warn=-1)\n",
    "\n",
    "import warnings\n",
    "from rpy2.rinterface import RRuntimeWarning\n",
    "warnings.filterwarnings(\"ignore\", category=RRuntimeWarning)\n",
    "warnings.simplefilter(action='ignore', category=FutureWarning)\n",
    "\n",
    "import matplotlib.animation as animation\n",
    "\n",
    "from shapely.geometry import Point\n",
    "\n",
    "from termcolor import colored\n",
    "\n",
    "import scipy.stats as ss\n",
    "import scipy.special as ssp"
   ]
  },
  {
   "cell_type": "code",
   "execution_count": null,
   "metadata": {},
   "outputs": [],
   "source": []
  }
 ],
 "metadata": {
  "kernelspec": {
   "display_name": "Python 3",
   "language": "python",
   "name": "python3"
  },
  "language_info": {
   "codemirror_mode": {
    "name": "ipython",
    "version": 3
   },
   "file_extension": ".py",
   "mimetype": "text/x-python",
   "name": "python",
   "nbconvert_exporter": "python",
   "pygments_lexer": "ipython3",
   "version": "3.7.7"
  }
 },
 "nbformat": 4,
 "nbformat_minor": 4
}
